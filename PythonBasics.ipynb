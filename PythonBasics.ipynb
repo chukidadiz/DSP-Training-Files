{
 "cells": [
  {
   "cell_type": "markdown",
   "metadata": {},
   "source": [
    "### Python Basics"
   ]
  },
  {
   "cell_type": "markdown",
   "metadata": {},
   "source": [
    "### Printing, Variables, Arithmetic"
   ]
  },
  {
   "cell_type": "code",
   "execution_count": 2,
   "metadata": {},
   "outputs": [
    {
     "name": "stdout",
     "output_type": "stream",
     "text": [
      "i love python\n"
     ]
    }
   ],
   "source": [
    "# Demonstrate Print 'I already love Python'\n",
    "print(\"i love python\")"
   ]
  },
  {
   "cell_type": "code",
   "execution_count": 3,
   "metadata": {},
   "outputs": [],
   "source": [
    "# Variables and assignment\n",
    "a = 10\n",
    "\n",
    "b = 5\n"
   ]
  },
  {
   "cell_type": "code",
   "execution_count": 5,
   "metadata": {
    "scrolled": true
   },
   "outputs": [
    {
     "name": "stdout",
     "output_type": "stream",
     "text": [
      "15\n",
      "50\n",
      "2.0\n",
      "5\n"
     ]
    }
   ],
   "source": [
    "# Arithmetic\n",
    "# Note variable values persist from previous cell\n",
    "print (a + b)\n",
    "print (a * b)\n",
    "print (a / b)\n",
    "print (a - b)"
   ]
  },
  {
   "cell_type": "code",
   "execution_count": 6,
   "metadata": {},
   "outputs": [
    {
     "name": "stdout",
     "output_type": "stream",
     "text": [
      "15\n"
     ]
    }
   ],
   "source": [
    "# Update\n",
    "a = a + b\n",
    "print (a)"
   ]
  },
  {
   "cell_type": "code",
   "execution_count": 7,
   "metadata": {},
   "outputs": [
    {
     "name": "stdout",
     "output_type": "stream",
     "text": [
      "20\n"
     ]
    }
   ],
   "source": [
    "# Increment\n",
    "a += b\n",
    "print (a)"
   ]
  },
  {
   "cell_type": "markdown",
   "metadata": {},
   "source": [
    "### Types"
   ]
  },
  {
   "cell_type": "code",
   "execution_count": 9,
   "metadata": {},
   "outputs": [
    {
     "name": "stdout",
     "output_type": "stream",
     "text": [
      "<class 'int'>\n",
      "<class 'str'>\n",
      "<class 'float'>\n"
     ]
    }
   ],
   "source": [
    "# Main reason is when you forgot what is the type of that variable\n",
    "# Dynamically-inferred types\n",
    "a = 10\n",
    "print (type(a))\n",
    "a = '10'\n",
    "print (type(a))\n",
    "a = 10.0\n",
    "print (type(a))"
   ]
  },
  {
   "cell_type": "code",
   "execution_count": 11,
   "metadata": {},
   "outputs": [
    {
     "ename": "TypeError",
     "evalue": "unsupported operand type(s) for +: 'int' and 'str'",
     "output_type": "error",
     "traceback": [
      "\u001b[1;31m---------------------------------------------------------------------------\u001b[0m",
      "\u001b[1;31mTypeError\u001b[0m                                 Traceback (most recent call last)",
      "\u001b[1;32m<ipython-input-11-6af6cf7fb616>\u001b[0m in \u001b[0;36m<module>\u001b[1;34m()\u001b[0m\n\u001b[0;32m      2\u001b[0m \u001b[0ma\u001b[0m \u001b[1;33m=\u001b[0m \u001b[1;36m10\u001b[0m\u001b[1;33m\u001b[0m\u001b[0m\n\u001b[0;32m      3\u001b[0m \u001b[0mb\u001b[0m \u001b[1;33m=\u001b[0m \u001b[1;34m'5'\u001b[0m\u001b[1;33m\u001b[0m\u001b[0m\n\u001b[1;32m----> 4\u001b[1;33m \u001b[0mprint\u001b[0m \u001b[1;33m(\u001b[0m\u001b[0ma\u001b[0m \u001b[1;33m+\u001b[0m \u001b[0mb\u001b[0m\u001b[1;33m)\u001b[0m\u001b[1;33m\u001b[0m\u001b[0m\n\u001b[0m",
      "\u001b[1;31mTypeError\u001b[0m: unsupported operand type(s) for +: 'int' and 'str'"
     ]
    }
   ],
   "source": [
    "# Type-checking\n",
    "a = 10\n",
    "b = '5'\n",
    "print (a + b)"
   ]
  },
  {
   "cell_type": "code",
   "execution_count": 4,
   "metadata": {},
   "outputs": [
    {
     "name": "stdout",
     "output_type": "stream",
     "text": [
      "15\n"
     ]
    }
   ],
   "source": [
    "# Manual type-conversion (string to int)\n",
    "a = 10\n",
    "b = '5'\n",
    "print (a + int(b))"
   ]
  },
  {
   "cell_type": "code",
   "execution_count": 5,
   "metadata": {},
   "outputs": [
    {
     "name": "stdout",
     "output_type": "stream",
     "text": [
      "<class 'int'>\n",
      "15.0 <class 'float'>\n"
     ]
    }
   ],
   "source": [
    "# Automatic type-conversion (int to float)\n",
    "a = 10\n",
    "print (type(a))\n",
    "a += 5.0\n",
    "print (a, type(a))"
   ]
  },
  {
   "cell_type": "code",
   "execution_count": 6,
   "metadata": {},
   "outputs": [
    {
     "name": "stdout",
     "output_type": "stream",
     "text": [
      "2.0\n",
      "0.5\n"
     ]
    }
   ],
   "source": [
    "# Integer division\n",
    "a = 10\n",
    "b = 5\n",
    "print (a/b)\n",
    "print (b/a)"
   ]
  },
  {
   "cell_type": "code",
   "execution_count": 7,
   "metadata": {},
   "outputs": [
    {
     "name": "stdout",
     "output_type": "stream",
     "text": [
      "0.5\n"
     ]
    }
   ],
   "source": [
    "# Forcing float division\n",
    "print (float(b/a))\n",
    "# How to correct?"
   ]
  },
  {
   "cell_type": "code",
   "execution_count": 8,
   "metadata": {},
   "outputs": [
    {
     "name": "stdout",
     "output_type": "stream",
     "text": [
      "Data Science\n"
     ]
    }
   ],
   "source": [
    "# String \"arithmetic\" (actually concatenation)\n",
    "a = 'Data '\n",
    "b = 'Science'\n",
    "print (a + b)"
   ]
  },
  {
   "cell_type": "markdown",
   "metadata": {},
   "source": [
    "### User Input"
   ]
  },
  {
   "cell_type": "code",
   "execution_count": 15,
   "metadata": {},
   "outputs": [
    {
     "name": "stdout",
     "output_type": "stream",
     "text": [
      "Enter value 1: 11\n",
      "Enter value 2: 11\n",
      "1111\n"
     ]
    }
   ],
   "source": [
    "a = input('Enter value 1: ')\n",
    "b = input('Enter value 2: ')\n",
    "print (a + b)"
   ]
  },
  {
   "cell_type": "code",
   "execution_count": 17,
   "metadata": {
    "scrolled": true
   },
   "outputs": [
    {
     "name": "stdout",
     "output_type": "stream",
     "text": [
      "Enter value 1: 1\n",
      "Enter value 2: 1\n",
      "2\n"
     ]
    }
   ],
   "source": [
    "# Note: input() function expects number or quoted string\n",
    "# Note: user input is common cause of stuck execution\n",
    "a = input('Enter value 1: ')\n",
    "b = input('Enter value 2: ')\n",
    "#print (int(a) + int(b))\n",
    "print (a + b)"
   ]
  },
  {
   "cell_type": "markdown",
   "metadata": {},
   "source": [
    "### Conditional (If) Statements"
   ]
  },
  {
   "cell_type": "code",
   "execution_count": 21,
   "metadata": {},
   "outputs": [
    {
     "name": "stdout",
     "output_type": "stream",
     "text": [
      "no condition matched\n",
      "so a is 5 or less\n"
     ]
    }
   ],
   "source": [
    "# If statements\n",
    "# Unlike other languages, indentation is significant\n",
    "a = 5\n",
    "if a > 10:\n",
    "    print ('a is greater than 10')\n",
    "    if a >= 15:\n",
    "        print ('a is also at least 15')\n",
    "elif a > 5:\n",
    "    print ('a is greater than 5 but not greater than 10')\n",
    "else:\n",
    "    print ('no condition matched')\n",
    "    print ('so a is 5 or less')"
   ]
  },
  {
   "cell_type": "markdown",
   "metadata": {},
   "source": [
    "### <font color = 'green'>Your Turn</font>"
   ]
  },
  {
   "cell_type": "code",
   "execution_count": null,
   "metadata": {},
   "outputs": [],
   "source": [
    "# Write a program that asks for a number and computes the\n",
    "# square of that number.\n",
    "# If the square is 100 or greater, print the squared value\n",
    "# and the word 'big'.\n",
    "# Otherwise if the square is 50 or greater, print the\n",
    "# squared value and the word 'medium'.\n",
    "# Otherwise just print 'too small to bother with'.\n",
    "# Note: To compute x squared, use x*x or x**2\n",
    "#\n",
    "YOUR CODE HERE"
   ]
  },
  {
   "cell_type": "markdown",
   "metadata": {},
   "source": [
    "### Lists and For-Loops"
   ]
  },
  {
   "cell_type": "code",
   "execution_count": 23,
   "metadata": {},
   "outputs": [
    {
     "name": "stdout",
     "output_type": "stream",
     "text": [
      "[2, 4, 7, 9]\n",
      "<class 'list'>\n",
      "4\n"
     ]
    }
   ],
   "source": [
    "# List\n",
    "a = [2, 4, 7, 9]\n",
    "print (a)\n",
    "print (type(a))\n",
    "print (len(a))"
   ]
  },
  {
   "cell_type": "code",
   "execution_count": 25,
   "metadata": {},
   "outputs": [
    {
     "name": "stdout",
     "output_type": "stream",
     "text": [
      "2 4\n",
      "4 8\n",
      "7 14\n",
      "9 18\n"
     ]
    }
   ],
   "source": [
    "# Iterate through a list \n",
    "# imagine as For-each in Java\n",
    "for x in a:\n",
    "    print (x, 2 * x)"
   ]
  },
  {
   "cell_type": "code",
   "execution_count": 27,
   "metadata": {},
   "outputs": [
    {
     "name": "stdout",
     "output_type": "stream",
     "text": [
      "4\n",
      "9\n"
     ]
    }
   ],
   "source": [
    "# Access element by index (starts at zero)\n",
    "print (a[1])\n",
    "print (a[3])\n",
    "# Try a[5]"
   ]
  },
  {
   "cell_type": "code",
   "execution_count": 28,
   "metadata": {},
   "outputs": [
    {
     "name": "stdout",
     "output_type": "stream",
     "text": [
      "[2, 4]\n",
      "[4, 7, 9]\n",
      "[4, 7]\n"
     ]
    }
   ],
   "source": [
    "# Prefix, suffix, and section of list\n",
    "print (a[:2])\n",
    "print (a[1:])\n",
    "print (a[1:3])"
   ]
  },
  {
   "cell_type": "code",
   "execution_count": 29,
   "metadata": {},
   "outputs": [
    {
     "name": "stdout",
     "output_type": "stream",
     "text": [
      "[2, 4, 7, 9, 12, 14]\n"
     ]
    }
   ],
   "source": [
    "# Append to list\n",
    "a.append(12)\n",
    "a.append(14)\n",
    "print (a)"
   ]
  },
  {
   "cell_type": "code",
   "execution_count": 30,
   "metadata": {},
   "outputs": [
    {
     "name": "stdout",
     "output_type": "stream",
     "text": [
      "[2, 4, 7, 9, 12, 14, 15, 20, 30]\n"
     ]
    }
   ],
   "source": [
    "# Combine two lists\n",
    "a = a + [15, 20, 30]\n",
    "print (a)"
   ]
  },
  {
   "cell_type": "code",
   "execution_count": 36,
   "metadata": {},
   "outputs": [
    {
     "name": "stdout",
     "output_type": "stream",
     "text": [
      "[1, 'two', 3.0, [4, 5, 6]]\n",
      "<class 'list'>\n",
      "<class 'int'> <class 'str'> <class 'float'> <class 'list'>\n"
     ]
    }
   ],
   "source": [
    "# List elements can be of different types\n",
    "a = [1, 'two', 3.0, [4,5,6]]\n",
    "print (a)\n",
    "print (type(a))\n",
    "print (type(a[0]), type(a[1]), type(a[2]), type (a[3]))"
   ]
  },
  {
   "cell_type": "markdown",
   "metadata": {},
   "source": [
    "### Dictionaries (key-value mappings)"
   ]
  },
  {
   "cell_type": "code",
   "execution_count": 1,
   "metadata": {},
   "outputs": [
    {
     "name": "stdout",
     "output_type": "stream",
     "text": [
      "{'name': 'Mary', 'age': 20, 'gender': 'F'}\n",
      "<class 'dict'>\n"
     ]
    }
   ],
   "source": [
    "# Dictionary\n",
    "a = {'name': 'Mary', 'age': 20, 'gender': 'F'}\n",
    "print (a)\n",
    "print (type(a))"
   ]
  },
  {
   "cell_type": "code",
   "execution_count": 2,
   "metadata": {},
   "outputs": [
    {
     "name": "stdout",
     "output_type": "stream",
     "text": [
      "20\n"
     ]
    }
   ],
   "source": [
    "# Look up value of element by key - most important feature!\n",
    "print (a['age'])\n",
    "# also try a['gender'], a['salary']"
   ]
  },
  {
   "cell_type": "code",
   "execution_count": null,
   "metadata": {},
   "outputs": [],
   "source": [
    "# Modify value\n",
    "a['age'] = 21\n",
    "print a"
   ]
  },
  {
   "cell_type": "code",
   "execution_count": 15,
   "metadata": {},
   "outputs": [
    {
     "name": "stdout",
     "output_type": "stream",
     "text": [
      "John is old\n",
      "Bill is young\n",
      "Susan is old\n"
     ]
    }
   ],
   "source": [
    "# Iterating through a list of dictionaries\n",
    "dlist = [{'name':'Mary', 'age':20}, {'name':'John', 'age':30},\\\n",
    "         {'name':'Bill', 'age':10}, {'name':'Susan', 'age':40}]\n",
    "for x in dlist:\n",
    "    if x['age'] >= 30:\n",
    "        print (x['name'], 'is old')\n",
    "    if x['age'] < 20:\n",
    "        print (x['name'], 'is young')"
   ]
  },
  {
   "cell_type": "code",
   "execution_count": 16,
   "metadata": {},
   "outputs": [
    {
     "name": "stdout",
     "output_type": "stream",
     "text": [
      "{'name': 'Professor', 'salary': 100}\n"
     ]
    }
   ],
   "source": [
    "# Add new key-value pair\n",
    "a['salary'] = 100\n",
    "print (a)"
   ]
  },
  {
   "cell_type": "code",
   "execution_count": 17,
   "metadata": {},
   "outputs": [
    {
     "name": "stdout",
     "output_type": "stream",
     "text": [
      "{'name': 'Professor'}\n"
     ]
    }
   ],
   "source": [
    "# Duplicate keys not allowed - note overwriting behavior\n",
    "a = {'name': 'BryanDadiz', 'name': 'Professor'}\n",
    "print (a)"
   ]
  },
  {
   "cell_type": "markdown",
   "metadata": {},
   "source": [
    "### <font color = 'green'>Your Turn</font>"
   ]
  },
  {
   "cell_type": "code",
   "execution_count": null,
   "metadata": {},
   "outputs": [],
   "source": [
    "# Below is code that creates a list of four items,\n",
    "# represented as dictionaries specifying each item's\n",
    "# color and size.\n",
    "# Add code to ask for a number, then print the color of all\n",
    "# items whose size is greater than that number.\n",
    "items = [{'color':'red', 'size':10}, {'color':'blue', 'size':3},\\\n",
    "         {'color':'green', 'size':15}, {'color':'yellow', 'size':6}]\n",
    "YOUR CODE HERE - You should only need to add four lines of code!"
   ]
  },
  {
   "cell_type": "markdown",
   "metadata": {},
   "source": [
    "### While-Loops"
   ]
  },
  {
   "cell_type": "code",
   "execution_count": null,
   "metadata": {},
   "outputs": [],
   "source": [
    "# Echo user input, 0 indicates stop\n",
    "a = input('Enter a number, 0 to stop: ')\n",
    "while a != 0:\n",
    "    print (a)\n",
    "    a = input('Enter a number, 0 to stop: ')\n",
    "print ('Done')\n",
    "# Change to while True and break"
   ]
  },
  {
   "cell_type": "markdown",
   "metadata": {},
   "source": [
    "### <font color = 'green'>Your Turn</font>"
   ]
  },
  {
   "cell_type": "code",
   "execution_count": null,
   "metadata": {},
   "outputs": [],
   "source": [
    "# Copy-paste your program from the previous Your Turn and revise\n",
    "# it to a loop that repeatedly asks for two numbers and prints the\n",
    "# color of all items whose size is between the two numbers, i.e.,\n",
    "# whose size is higher than the first number and lower than the\n",
    "# second number.\n",
    "# If the user's second number is equal to or smaller than\n",
    "# the first number, the program should print 'Done' and stop.\n",
    "# Note: for the \"and\" of two conditions C1 and C2, use \"C1 and C2\"\n",
    "YOUR CODE HERE"
   ]
  },
  {
   "cell_type": "markdown",
   "metadata": {},
   "source": [
    "### Functions (just FYI)"
   ]
  },
  {
   "cell_type": "code",
   "execution_count": null,
   "metadata": {},
   "outputs": [],
   "source": [
    "# Create a function with no arguments or return value\n",
    "def simple():\n",
    "    print 'This function has no arguments or return value'"
   ]
  },
  {
   "cell_type": "code",
   "execution_count": null,
   "metadata": {},
   "outputs": [],
   "source": [
    "# Call the function five times\n",
    "for i in [1,2,3,4,5]:\n",
    "    simple()"
   ]
  },
  {
   "cell_type": "code",
   "execution_count": null,
   "metadata": {},
   "outputs": [],
   "source": [
    "# Create a function with arguments and a return value\n",
    "def addthem(a, b):\n",
    "    return a + b"
   ]
  },
  {
   "cell_type": "code",
   "execution_count": null,
   "metadata": {},
   "outputs": [],
   "source": [
    "# Call the function five times\n",
    "for i in [1,2,3,4,5]:\n",
    "    print i, i+1, addthem(i,i+1)"
   ]
  },
  {
   "cell_type": "code",
   "execution_count": null,
   "metadata": {},
   "outputs": [],
   "source": []
  }
 ],
 "metadata": {
  "kernelspec": {
   "display_name": "Python 3",
   "language": "python",
   "name": "python3"
  },
  "language_info": {
   "codemirror_mode": {
    "name": "ipython",
    "version": 3
   },
   "file_extension": ".py",
   "mimetype": "text/x-python",
   "name": "python",
   "nbconvert_exporter": "python",
   "pygments_lexer": "ipython3",
   "version": "3.6.7"
  }
 },
 "nbformat": 4,
 "nbformat_minor": 1
}
